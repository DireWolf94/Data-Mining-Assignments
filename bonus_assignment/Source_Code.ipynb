{
 "cells": [
  {
   "cell_type": "markdown",
   "metadata": {},
   "source": [
    "# Importing Packages"
   ]
  },
  {
   "cell_type": "code",
   "execution_count": 1,
   "metadata": {},
   "outputs": [
    {
     "name": "stderr",
     "output_type": "stream",
     "text": [
      "C:\\Users\\mirza914\\Anaconda2\\envs\\torch_enc\\lib\\site-packages\\sklearn\\ensemble\\weight_boosting.py:29: DeprecationWarning: numpy.core.umath_tests is an internal NumPy module and should not be imported. It will be removed in a future NumPy release.\n",
      "  from numpy.core.umath_tests import inner1d\n"
     ]
    }
   ],
   "source": [
    "import numpy as np\n",
    "import pandas as pd\n",
    "\n",
    "\n",
    "from sklearn.linear_model import LogisticRegression\n",
    "from sklearn.svm import SVC\n",
    "from sklearn.ensemble import RandomForestClassifier\n",
    "from sklearn.neighbors import KNeighborsClassifier\n",
    "from sklearn.tree import DecisionTreeClassifier\n",
    "from sklearn.metrics import accuracy_score\n",
    "import matplotlib.pyplot as plt"
   ]
  },
  {
   "cell_type": "markdown",
   "metadata": {},
   "source": [
    "# Preprocessing Data"
   ]
  },
  {
   "cell_type": "code",
   "execution_count": 2,
   "metadata": {},
   "outputs": [],
   "source": [
    "mal_data=pd.read_csv('opcode_frequency_malginant.csv')"
   ]
  },
  {
   "cell_type": "code",
   "execution_count": 3,
   "metadata": {},
   "outputs": [],
   "source": [
    "benign_data=pd.read_csv('opcode_frequency_benign.csv')"
   ]
  },
  {
   "cell_type": "code",
   "execution_count": 4,
   "metadata": {},
   "outputs": [
    {
     "data": {
      "text/plain": [
       "0"
      ]
     },
     "execution_count": 4,
     "metadata": {},
     "output_type": "execute_result"
    }
   ],
   "source": [
    "#checking for null data\n",
    "benign_data.isnull().sum().sum()"
   ]
  },
  {
   "cell_type": "code",
   "execution_count": 5,
   "metadata": {},
   "outputs": [
    {
     "data": {
      "text/plain": [
       "0"
      ]
     },
     "execution_count": 5,
     "metadata": {},
     "output_type": "execute_result"
    }
   ],
   "source": [
    "#checking for null data\n",
    "mal_data.isnull().sum().sum()"
   ]
  },
  {
   "cell_type": "code",
   "execution_count": 6,
   "metadata": {},
   "outputs": [
    {
     "data": {
      "text/html": [
       "<div>\n",
       "<style scoped>\n",
       "    .dataframe tbody tr th:only-of-type {\n",
       "        vertical-align: middle;\n",
       "    }\n",
       "\n",
       "    .dataframe tbody tr th {\n",
       "        vertical-align: top;\n",
       "    }\n",
       "\n",
       "    .dataframe thead th {\n",
       "        text-align: right;\n",
       "    }\n",
       "</style>\n",
       "<table border=\"1\" class=\"dataframe\">\n",
       "  <thead>\n",
       "    <tr style=\"text-align: right;\">\n",
       "      <th></th>\n",
       "      <th>FileName</th>\n",
       "      <th>1</th>\n",
       "      <th>2</th>\n",
       "      <th>3</th>\n",
       "      <th>4</th>\n",
       "      <th>5</th>\n",
       "      <th>6</th>\n",
       "      <th>7</th>\n",
       "      <th>8</th>\n",
       "      <th>9</th>\n",
       "      <th>...</th>\n",
       "      <th>1799</th>\n",
       "      <th>1800</th>\n",
       "      <th>1801</th>\n",
       "      <th>1802</th>\n",
       "      <th>1803</th>\n",
       "      <th>1804</th>\n",
       "      <th>1805</th>\n",
       "      <th>1806</th>\n",
       "      <th>1807</th>\n",
       "      <th>1808</th>\n",
       "    </tr>\n",
       "  </thead>\n",
       "  <tbody>\n",
       "    <tr>\n",
       "      <th>0</th>\n",
       "      <td>e62c764a18642df4fc82886aa0b0e14cb54d6f1b.exe.asm</td>\n",
       "      <td>98</td>\n",
       "      <td>94</td>\n",
       "      <td>91</td>\n",
       "      <td>111</td>\n",
       "      <td>623</td>\n",
       "      <td>11</td>\n",
       "      <td>19</td>\n",
       "      <td>0</td>\n",
       "      <td>1</td>\n",
       "      <td>...</td>\n",
       "      <td>0</td>\n",
       "      <td>0</td>\n",
       "      <td>0</td>\n",
       "      <td>0</td>\n",
       "      <td>0</td>\n",
       "      <td>0</td>\n",
       "      <td>0</td>\n",
       "      <td>0</td>\n",
       "      <td>0</td>\n",
       "      <td>0</td>\n",
       "    </tr>\n",
       "    <tr>\n",
       "      <th>1</th>\n",
       "      <td>4eed533de4e01e1b22cf51417243d72438917991.exe.asm</td>\n",
       "      <td>0</td>\n",
       "      <td>0</td>\n",
       "      <td>0</td>\n",
       "      <td>0</td>\n",
       "      <td>0</td>\n",
       "      <td>0</td>\n",
       "      <td>0</td>\n",
       "      <td>0</td>\n",
       "      <td>0</td>\n",
       "      <td>...</td>\n",
       "      <td>0</td>\n",
       "      <td>0</td>\n",
       "      <td>0</td>\n",
       "      <td>0</td>\n",
       "      <td>0</td>\n",
       "      <td>0</td>\n",
       "      <td>0</td>\n",
       "      <td>0</td>\n",
       "      <td>0</td>\n",
       "      <td>0</td>\n",
       "    </tr>\n",
       "    <tr>\n",
       "      <th>2</th>\n",
       "      <td>a3a235dd1780d9e55c686c200852a5be6b0b81cc.exe.asm</td>\n",
       "      <td>0</td>\n",
       "      <td>0</td>\n",
       "      <td>0</td>\n",
       "      <td>0</td>\n",
       "      <td>0</td>\n",
       "      <td>0</td>\n",
       "      <td>0</td>\n",
       "      <td>0</td>\n",
       "      <td>0</td>\n",
       "      <td>...</td>\n",
       "      <td>0</td>\n",
       "      <td>0</td>\n",
       "      <td>0</td>\n",
       "      <td>0</td>\n",
       "      <td>0</td>\n",
       "      <td>0</td>\n",
       "      <td>0</td>\n",
       "      <td>0</td>\n",
       "      <td>0</td>\n",
       "      <td>0</td>\n",
       "    </tr>\n",
       "    <tr>\n",
       "      <th>3</th>\n",
       "      <td>892e7c8382943342a29a6ae5a55f2272532d8e04.exe.asm</td>\n",
       "      <td>205</td>\n",
       "      <td>207</td>\n",
       "      <td>216</td>\n",
       "      <td>171</td>\n",
       "      <td>1498</td>\n",
       "      <td>21</td>\n",
       "      <td>70</td>\n",
       "      <td>0</td>\n",
       "      <td>0</td>\n",
       "      <td>...</td>\n",
       "      <td>0</td>\n",
       "      <td>0</td>\n",
       "      <td>0</td>\n",
       "      <td>0</td>\n",
       "      <td>0</td>\n",
       "      <td>0</td>\n",
       "      <td>0</td>\n",
       "      <td>0</td>\n",
       "      <td>0</td>\n",
       "      <td>0</td>\n",
       "    </tr>\n",
       "    <tr>\n",
       "      <th>4</th>\n",
       "      <td>0453aa68fe249901ca4f795480898914ed20553f.exe.asm</td>\n",
       "      <td>45</td>\n",
       "      <td>18</td>\n",
       "      <td>37</td>\n",
       "      <td>22</td>\n",
       "      <td>399</td>\n",
       "      <td>7</td>\n",
       "      <td>4</td>\n",
       "      <td>0</td>\n",
       "      <td>0</td>\n",
       "      <td>...</td>\n",
       "      <td>0</td>\n",
       "      <td>0</td>\n",
       "      <td>0</td>\n",
       "      <td>0</td>\n",
       "      <td>0</td>\n",
       "      <td>0</td>\n",
       "      <td>0</td>\n",
       "      <td>0</td>\n",
       "      <td>0</td>\n",
       "      <td>0</td>\n",
       "    </tr>\n",
       "  </tbody>\n",
       "</table>\n",
       "<p>5 rows × 1809 columns</p>\n",
       "</div>"
      ],
      "text/plain": [
       "                                           FileName    1    2    3    4     5  \\\n",
       "0  e62c764a18642df4fc82886aa0b0e14cb54d6f1b.exe.asm   98   94   91  111   623   \n",
       "1  4eed533de4e01e1b22cf51417243d72438917991.exe.asm    0    0    0    0     0   \n",
       "2  a3a235dd1780d9e55c686c200852a5be6b0b81cc.exe.asm    0    0    0    0     0   \n",
       "3  892e7c8382943342a29a6ae5a55f2272532d8e04.exe.asm  205  207  216  171  1498   \n",
       "4  0453aa68fe249901ca4f795480898914ed20553f.exe.asm   45   18   37   22   399   \n",
       "\n",
       "    6   7  8  9  ...   1799  1800  1801  1802  1803  1804  1805  1806  1807  \\\n",
       "0  11  19  0  1  ...      0     0     0     0     0     0     0     0     0   \n",
       "1   0   0  0  0  ...      0     0     0     0     0     0     0     0     0   \n",
       "2   0   0  0  0  ...      0     0     0     0     0     0     0     0     0   \n",
       "3  21  70  0  0  ...      0     0     0     0     0     0     0     0     0   \n",
       "4   7   4  0  0  ...      0     0     0     0     0     0     0     0     0   \n",
       "\n",
       "   1808  \n",
       "0     0  \n",
       "1     0  \n",
       "2     0  \n",
       "3     0  \n",
       "4     0  \n",
       "\n",
       "[5 rows x 1809 columns]"
      ]
     },
     "execution_count": 6,
     "metadata": {},
     "output_type": "execute_result"
    }
   ],
   "source": [
    "mal_data.head()"
   ]
  },
  {
   "cell_type": "code",
   "execution_count": 7,
   "metadata": {},
   "outputs": [],
   "source": [
    "benign_data['1808']=0\n",
    "mal_data['1808']=1\n",
    "data=[mal_data,benign_data]\n",
    "data_orig=pd.concat(data)"
   ]
  },
  {
   "cell_type": "code",
   "execution_count": 8,
   "metadata": {},
   "outputs": [
    {
     "data": {
      "text/plain": [
       "1    4060\n",
       "0    2709\n",
       "Name: 1808, dtype: int64"
      ]
     },
     "execution_count": 8,
     "metadata": {},
     "output_type": "execute_result"
    }
   ],
   "source": [
    "data_orig['1808'].value_counts()"
   ]
  },
  {
   "cell_type": "code",
   "execution_count": 9,
   "metadata": {},
   "outputs": [],
   "source": [
    "data_orig=data_orig.drop_duplicates()"
   ]
  },
  {
   "cell_type": "code",
   "execution_count": 10,
   "metadata": {},
   "outputs": [],
   "source": [
    "data_orig=data_orig.drop(columns=['FileName'],axis=1)"
   ]
  },
  {
   "cell_type": "code",
   "execution_count": 11,
   "metadata": {},
   "outputs": [],
   "source": [
    "X=data_orig.drop(columns=['1808'],axis=1)\n",
    "y=data_orig['1808']"
   ]
  },
  {
   "cell_type": "markdown",
   "metadata": {},
   "source": [
    "# Logistic Regression"
   ]
  },
  {
   "cell_type": "code",
   "execution_count": 12,
   "metadata": {},
   "outputs": [],
   "source": [
    "from sklearn.model_selection import train_test_split\n",
    "X_train, X_test, y_train, y_test = train_test_split(X,y,random_state=0)"
   ]
  },
  {
   "cell_type": "code",
   "execution_count": 13,
   "metadata": {},
   "outputs": [
    {
     "name": "stdout",
     "output_type": "stream",
     "text": [
      "for C=0.001\n",
      "training data accuracy:0.9830575256107171\n",
      "validation accuracy:0.9657412876550502\n",
      "==============================================\n",
      "for C=0.01\n",
      "training data accuracy:0.9804964539007093\n",
      "validation accuracy:0.9663319551092735\n",
      "==============================================\n",
      "for C=0.1\n",
      "training data accuracy:0.9814814814814815\n",
      "validation accuracy:0.9657412876550502\n",
      "==============================================\n",
      "for C=1\n",
      "training data accuracy:0.9818754925137904\n",
      "validation accuracy:0.965150620200827\n",
      "==============================================\n",
      "for C=10\n",
      "training data accuracy:0.9842395587076438\n",
      "validation accuracy:0.9669226225634967\n",
      "==============================================\n",
      "for C=100\n",
      "training data accuracy:0.9818754925137904\n",
      "validation accuracy:0.9657412876550502\n",
      "==============================================\n"
     ]
    }
   ],
   "source": [
    "Clr=[0.001,0.01,0.1,1,10,100]\n",
    "train_accuracy=[]\n",
    "test_accuracy=[]\n",
    "for i in Clr:\n",
    "    clf = LogisticRegression(C=i).fit(X_train,y_train)\n",
    "    train_accuracy.append(accuracy_score(clf.predict(X_train),y_train))\n",
    "    test_accuracy.append(accuracy_score(clf.predict(X_test),y_test))\n",
    "    print(\"for C=\"+str(i))\n",
    "    print(\"training data accuracy:\"+str(accuracy_score(clf.predict(X_train),y_train)))\n",
    "    print(\"validation accuracy:\"+str(accuracy_score(clf.predict(X_test),y_test)))\n",
    "    print(\"==============================================\")"
   ]
  },
  {
   "cell_type": "code",
   "execution_count": 14,
   "metadata": {},
   "outputs": [
    {
     "data": {
      "text/plain": [
       "Text(0, 0.5, 'Accuracy')"
      ]
     },
     "execution_count": 14,
     "metadata": {},
     "output_type": "execute_result"
    },
    {
     "data": {
      "image/png": "[encoded data removed]",
      "text/plain": [
       "<Figure size 720x432 with 1 Axes>"
      ]
     },
     "metadata": {},
     "output_type": "display_data"
    }
   ],
   "source": [
    "plt.figure(figsize=(10,6))\n",
    "train_score,=plt.plot(np.log10(Clr),train_accuracy,color='blue', linestyle='dashed', marker='o',\n",
    "         markerfacecolor='green', markersize=5)\n",
    "test_score,=plt.plot(np.log10(Clr),test_accuracy,color='red',linestyle='dashed',  marker='o',\n",
    "         markerfacecolor='blue', markersize=5)\n",
    "plt.legend( [train_score,test_score],[\"Train Accuracy\",\"Test Accuracy\"])\n",
    "plt.title('Accuracy vs log10(C)')\n",
    "plt.xlabel('log10(C)')\n",
    "plt.ylabel('Accuracy')"
   ]
  },
  {
   "cell_type": "code",
   "execution_count": 15,
   "metadata": {},
   "outputs": [
    {
     "name": "stdout",
     "output_type": "stream",
     "text": [
      "0.9776924213325454\n"
     ]
    }
   ],
   "source": [
    "lr=LogisticRegression(C=0.01).fit(X,y)\n",
    "print(accuracy_score(lr.predict(X),y))"
   ]
  },
  {
   "cell_type": "markdown",
   "metadata": {},
   "source": [
    "# Support Vector Machines"
   ]
  },
  {
   "cell_type": "code",
   "execution_count": 16,
   "metadata": {},
   "outputs": [
    {
     "name": "stdout",
     "output_type": "stream",
     "text": [
      "for C=0.001\n",
      "training data accuracy:0.5986997635933806\n",
      "validation accuracy:0.603071470761961\n",
      "==============================================\n",
      "for C=0.01\n",
      "training data accuracy:0.5986997635933806\n",
      "validation accuracy:0.603071470761961\n",
      "==============================================\n",
      "for C=0.1\n",
      "training data accuracy:0.6349487785657998\n",
      "validation accuracy:0.6391021854695806\n",
      "==============================================\n",
      "for C=1\n",
      "training data accuracy:0.9986209613869188\n",
      "validation accuracy:0.7241582988777319\n",
      "==============================================\n",
      "for C=10\n",
      "training data accuracy:0.9988179669030733\n",
      "validation accuracy:0.7277023036030714\n",
      "==============================================\n",
      "for C=100\n",
      "training data accuracy:0.9990149724192278\n",
      "validation accuracy:0.7271116361488482\n",
      "==============================================\n"
     ]
    }
   ],
   "source": [
    "Csvm=[0.001,0.01,0.1,1,10,100]\n",
    "train_accuracy=[]\n",
    "test_accuracy=[]\n",
    "for i in Csvm:\n",
    "    clf = SVC(C=i,kernel='rbf').fit(X_train,y_train)\n",
    "    train_accuracy.append(accuracy_score(clf.predict(X_train),y_train))\n",
    "    test_accuracy.append(accuracy_score(clf.predict(X_test),y_test))\n",
    "    print(\"for C=\"+str(i))\n",
    "    print(\"training data accuracy:\"+str(accuracy_score(clf.predict(X_train),y_train)))\n",
    "    print(\"validation accuracy:\"+str(accuracy_score(clf.predict(X_test),y_test)))\n",
    "    print(\"==============================================\")"
   ]
  },
  {
   "cell_type": "code",
   "execution_count": 17,
   "metadata": {},
   "outputs": [
    {
     "data": {
      "text/plain": [
       "Text(0, 0.5, 'Accuracy')"
      ]
     },
     "execution_count": 17,
     "metadata": {},
     "output_type": "execute_result"
    },
    {
     "data": {
      "image/png": "[encoded data removed]",
      "text/plain": [
       "<Figure size 720x432 with 1 Axes>"
      ]
     },
     "metadata": {},
     "output_type": "display_data"
    }
   ],
   "source": [
    "plt.figure(figsize=(10,6))\n",
    "train_score,=plt.plot(np.log10(Clr),train_accuracy,color='blue', linestyle='dashed', marker='o',\n",
    "         markerfacecolor='green', markersize=5)\n",
    "test_score,=plt.plot(np.log10(Clr),test_accuracy,color='red',linestyle='dashed',  marker='o',\n",
    "         markerfacecolor='blue', markersize=5)\n",
    "plt.legend( [train_score,test_score],[\"Train Accuracy\",\"Test Accuracy\"])\n",
    "plt.title('Accuracy vs log10(C)')\n",
    "plt.xlabel('log10(C)')\n",
    "plt.ylabel('Accuracy')"
   ]
  },
  {
   "cell_type": "code",
   "execution_count": 18,
   "metadata": {},
   "outputs": [
    {
     "name": "stdout",
     "output_type": "stream",
     "text": [
      "0.6460333875018467\n"
     ]
    }
   ],
   "source": [
    "svmrbf=SVC(kernel='rbf',C=0.1).fit(X,y)\n",
    "print(accuracy_score(svmrbf.predict(X),y))"
   ]
  },
  {
   "cell_type": "markdown",
   "metadata": {},
   "source": [
    "# KNN"
   ]
  },
  {
   "cell_type": "code",
   "execution_count": 19,
   "metadata": {},
   "outputs": [
    {
     "name": "stdout",
     "output_type": "stream",
     "text": [
      "for n_neighbors=1\n",
      "training data accuracy:0.9992119779353822\n",
      "validation accuracy:0.9781453041937389\n",
      "==============================================\n",
      "for n_neighbors=3\n",
      "training data accuracy:0.9885736800630418\n",
      "validation accuracy:0.9757826343768459\n",
      "==============================================\n",
      "for n_neighbors=5\n",
      "training data accuracy:0.9832545311268716\n",
      "validation accuracy:0.9704666272888364\n",
      "==============================================\n",
      "for n_neighbors=7\n",
      "training data accuracy:0.9763593380614657\n",
      "validation accuracy:0.9681039574719433\n",
      "==============================================\n",
      "for n_neighbors=10\n",
      "training data accuracy:0.9702521670606777\n",
      "validation accuracy:0.9604252805670408\n",
      "==============================================\n",
      "for n_neighbors=12\n",
      "training data accuracy:0.9698581560283688\n",
      "validation accuracy:0.9580626107501476\n",
      "==============================================\n",
      "for n_neighbors=15\n",
      "training data accuracy:0.9692671394799054\n",
      "validation accuracy:0.9556999409332546\n",
      "==============================================\n",
      "for n_neighbors=20\n",
      "training data accuracy:0.9643420015760441\n",
      "validation accuracy:0.9515652687536916\n",
      "==============================================\n"
     ]
    }
   ],
   "source": [
    "n=[1,3,5,7,10,12,15,20]\n",
    "train_accuracy=[]\n",
    "test_accuracy=[]\n",
    "for i in n:\n",
    "    clf = KNeighborsClassifier(n_neighbors=i).fit(X_train,y_train)\n",
    "    train_accuracy.append(accuracy_score(clf.predict(X_train),y_train))\n",
    "    test_accuracy.append(accuracy_score(clf.predict(X_test),y_test))\n",
    "    print(\"for n_neighbors=\"+str(i))\n",
    "    print(\"training data accuracy:\"+str(accuracy_score(clf.predict(X_train),y_train)))\n",
    "    print(\"validation accuracy:\"+str(accuracy_score(clf.predict(X_test),y_test)))\n",
    "    print(\"==============================================\")"
   ]
  },
  {
   "cell_type": "code",
   "execution_count": 20,
   "metadata": {},
   "outputs": [
    {
     "data": {
      "text/plain": [
       "Text(0, 0.5, 'Accuracy')"
      ]
     },
     "execution_count": 20,
     "metadata": {},
     "output_type": "execute_result"
    },
    {
     "data": {
      "image/png": "[encoded data removed]",
      "text/plain": [
       "<Figure size 720x432 with 1 Axes>"
      ]
     },
     "metadata": {},
     "output_type": "display_data"
    }
   ],
   "source": [
    "plt.figure(figsize=(10,6))\n",
    "train_score,=plt.plot(n,train_accuracy,color='blue', linestyle='dashed', marker='o',\n",
    "         markerfacecolor='green', markersize=5)\n",
    "test_score,=plt.plot(n,test_accuracy,color='red',linestyle='dashed',  marker='o',\n",
    "         markerfacecolor='blue', markersize=5)\n",
    "plt.legend( [train_score,test_score],[\"Train Accuracy\",\"Test Accuracy\"])\n",
    "plt.title('Accuracy vs n_neighbors')\n",
    "plt.xlabel('n_neighbors')\n",
    "plt.ylabel('Accuracy')"
   ]
  },
  {
   "cell_type": "code",
   "execution_count": 21,
   "metadata": {},
   "outputs": [
    {
     "name": "stdout",
     "output_type": "stream",
     "text": [
      "0.9880336829664648\n"
     ]
    }
   ],
   "source": [
    "knn=KNeighborsClassifier(n_neighbors=3).fit(X,y)\n",
    "print(accuracy_score(knn.predict(X),y))"
   ]
  },
  {
   "cell_type": "markdown",
   "metadata": {},
   "source": [
    "# KNN with scaled features"
   ]
  },
  {
   "cell_type": "code",
   "execution_count": 22,
   "metadata": {},
   "outputs": [],
   "source": [
    "from sklearn.preprocessing import MinMaxScaler\n",
    "scaler=MinMaxScaler().fit(X)\n",
    "scaled_data=scaler.transform(X)\n",
    "scaled_data_pd=pd.DataFrame(scaled_data,columns=X.columns)\n"
   ]
  },
  {
   "cell_type": "code",
   "execution_count": 23,
   "metadata": {},
   "outputs": [],
   "source": [
    "X_train_sc, X_test_sc, y_train_sc, y_test_sc = train_test_split(scaled_data_pd,y,random_state=0)"
   ]
  },
  {
   "cell_type": "code",
   "execution_count": 24,
   "metadata": {},
   "outputs": [
    {
     "name": "stdout",
     "output_type": "stream",
     "text": [
      "0.9868006304176516\n",
      "0.9716479621972829\n"
     ]
    }
   ],
   "source": [
    "clf = KNeighborsClassifier(n_neighbors=3).fit(X_train_sc,y_train_sc)\n",
    "print(accuracy_score(clf.predict(X_train_sc),y_train_sc))\n",
    "print(accuracy_score(clf.predict(X_test_sc),y_test_sc))"
   ]
  },
  {
   "cell_type": "code",
   "execution_count": 25,
   "metadata": {},
   "outputs": [
    {
     "name": "stdout",
     "output_type": "stream",
     "text": [
      "0.9864086275668489\n"
     ]
    }
   ],
   "source": [
    "knn_1=KNeighborsClassifier(n_neighbors=3).fit(scaled_data_pd,y)\n",
    "print(accuracy_score(knn_1.predict(scaled_data_pd),y))"
   ]
  },
  {
   "cell_type": "markdown",
   "metadata": {},
   "source": [
    "# Decision Tree"
   ]
  },
  {
   "cell_type": "code",
   "execution_count": 26,
   "metadata": {},
   "outputs": [
    {
     "name": "stdout",
     "output_type": "stream",
     "text": [
      "for max_depth1\n",
      "training data accuracy:0.8654452324665091\n",
      "validation accuracy:0.8375664500886001\n",
      "==============================================\n",
      "for max_depth3\n",
      "training data accuracy:0.9505516154452325\n",
      "validation accuracy:0.93502658003544\n",
      "==============================================\n",
      "for max_depth5\n",
      "training data accuracy:0.9678881008668243\n",
      "validation accuracy:0.9527466036621383\n",
      "==============================================\n",
      "for max_depth7\n",
      "training data accuracy:0.9765563435776202\n",
      "validation accuracy:0.9592439456585942\n",
      "==============================================\n",
      "for max_depth10\n",
      "training data accuracy:0.9820724980299448\n",
      "validation accuracy:0.9639692852923804\n",
      "==============================================\n",
      "for max_depth12\n",
      "training data accuracy:0.9862096138691884\n",
      "validation accuracy:0.9669226225634967\n",
      "==============================================\n",
      "for max_depth15\n",
      "training data accuracy:0.9879826635145784\n",
      "validation accuracy:0.9669226225634967\n",
      "==============================================\n",
      "for max_depth20\n",
      "training data accuracy:0.997832939322301\n",
      "validation accuracy:0.9763733018310691\n",
      "==============================================\n"
     ]
    }
   ],
   "source": [
    "depth=[1,3,5,7,10,12,15,20]\n",
    "train_accuracy=[]\n",
    "test_accuracy=[]\n",
    "for i in depth:\n",
    "    clf = DecisionTreeClassifier(max_depth=i).fit(X_train,y_train)\n",
    "    train_accuracy.append(accuracy_score(clf.predict(X_train),y_train))\n",
    "    test_accuracy.append(accuracy_score(clf.predict(X_test),y_test))\n",
    "    print(\"for max_depth\"+str(i))\n",
    "    print(\"training data accuracy:\"+str(accuracy_score(clf.predict(X_train),y_train)))\n",
    "    print(\"validation accuracy:\"+str(accuracy_score(clf.predict(X_test),y_test)))\n",
    "    print(\"==============================================\")"
   ]
  },
  {
   "cell_type": "code",
   "execution_count": 27,
   "metadata": {},
   "outputs": [
    {
     "data": {
      "text/plain": [
       "Text(0, 0.5, 'Accuracy')"
      ]
     },
     "execution_count": 27,
     "metadata": {},
     "output_type": "execute_result"
    },
    {
     "data": {
      "image/png": "[encoded data removed]",
      "text/plain": [
       "<Figure size 720x432 with 1 Axes>"
      ]
     },
     "metadata": {},
     "output_type": "display_data"
    }
   ],
   "source": [
    "plt.figure(figsize=(10,6))\n",
    "train_score,=plt.plot(depth,train_accuracy,color='blue', linestyle='dashed', marker='o',\n",
    "         markerfacecolor='green', markersize=5)\n",
    "test_score,=plt.plot(depth,test_accuracy,color='red',linestyle='dashed',  marker='o',\n",
    "         markerfacecolor='blue', markersize=5)\n",
    "plt.legend( [train_score,test_score],[\"Train Accuracy\",\"Test Accuracy\"])\n",
    "plt.title('Accuracy vs max_depth')\n",
    "plt.xlabel('max_depth')\n",
    "plt.ylabel('Accuracy')"
   ]
  },
  {
   "cell_type": "code",
   "execution_count": 28,
   "metadata": {},
   "outputs": [
    {
     "name": "stdout",
     "output_type": "stream",
     "text": [
      "0.9856699660215689\n"
     ]
    }
   ],
   "source": [
    "dec=DecisionTreeClassifier(max_depth=12).fit(X,y)\n",
    "print(accuracy_score(dec.predict(X),y))"
   ]
  },
  {
   "cell_type": "markdown",
   "metadata": {},
   "source": [
    "# RandomForest Classsifier"
   ]
  },
  {
   "cell_type": "code",
   "execution_count": 29,
   "metadata": {},
   "outputs": [
    {
     "name": "stdout",
     "output_type": "stream",
     "text": [
      "for max_depth=1\n",
      "training data accuracy:0.8341213553979512\n",
      "validation accuracy:0.8180744240992321\n",
      "==============================================\n",
      "for max_depth=3\n",
      "training data accuracy:0.9336091410559496\n",
      "validation accuracy:0.9125812167749557\n",
      "==============================================\n",
      "for max_depth=5\n",
      "training data accuracy:0.960795902285264\n",
      "validation accuracy:0.9432959243945659\n",
      "==============================================\n",
      "for max_depth=7\n",
      "training data accuracy:0.9791174152876281\n",
      "validation accuracy:0.961015948021264\n",
      "==============================================\n",
      "for max_depth=10\n",
      "training data accuracy:0.9913317572892041\n",
      "validation accuracy:0.9763733018310691\n",
      "==============================================\n",
      "for max_depth=12\n",
      "training data accuracy:0.9936958234830575\n",
      "validation accuracy:0.9775546367395157\n",
      "==============================================\n",
      "for max_depth=15\n",
      "training data accuracy:0.9984239558707644\n",
      "validation accuracy:0.9810986414648553\n",
      "==============================================\n",
      "for max_depth=20\n",
      "training data accuracy:0.9992119779353822\n",
      "validation accuracy:0.9846426461901949\n",
      "==============================================\n"
     ]
    }
   ],
   "source": [
    "depth=[1,3,5,7,10,12,15,20]\n",
    "train_accuracy=[]\n",
    "test_accuracy=[]\n",
    "for i in depth:\n",
    "    clf = RandomForestClassifier(max_depth=i,n_estimators=50).fit(X_train,y_train)\n",
    "    train_accuracy.append(accuracy_score(clf.predict(X_train),y_train))\n",
    "    test_accuracy.append(accuracy_score(clf.predict(X_test),y_test))\n",
    "    print(\"for max_depth=\"+str(i))\n",
    "    print(\"training data accuracy:\"+str(accuracy_score(clf.predict(X_train),y_train)))\n",
    "    print(\"validation accuracy:\"+str(accuracy_score(clf.predict(X_test),y_test)))\n",
    "    print(\"==============================================\")"
   ]
  },
  {
   "cell_type": "code",
   "execution_count": 30,
   "metadata": {},
   "outputs": [
    {
     "data": {
      "text/plain": [
       "Text(0, 0.5, 'Accuracy')"
      ]
     },
     "execution_count": 30,
     "metadata": {},
     "output_type": "execute_result"
    },
    {
     "data": {
      "image/png": "[encoded data removed]",
      "text/plain": [
       "<Figure size 720x432 with 1 Axes>"
      ]
     },
     "metadata": {},
     "output_type": "display_data"
    }
   ],
   "source": [
    "plt.figure(figsize=(10,6))\n",
    "train_score,=plt.plot(depth,train_accuracy,color='blue', linestyle='dashed', marker='o',\n",
    "         markerfacecolor='green', markersize=5)\n",
    "test_score,=plt.plot(depth,test_accuracy,color='red',linestyle='dashed',  marker='o',\n",
    "         markerfacecolor='blue', markersize=5)\n",
    "plt.legend( [train_score,test_score],[\"Train Accuracy\",\"Test Accuracy\"])\n",
    "plt.title('Accuracy vs max_depth for RandomForest with 50 trees ')\n",
    "plt.xlabel('max_depth')\n",
    "plt.ylabel('Accuracy')"
   ]
  },
  {
   "cell_type": "code",
   "execution_count": 31,
   "metadata": {},
   "outputs": [
    {
     "name": "stdout",
     "output_type": "stream",
     "text": [
      "accuracy with 50 estimators:\n",
      "0.9989658738366081\n"
     ]
    }
   ],
   "source": [
    "rnd_2=RandomForestClassifier(max_depth=20,n_estimators=50).fit(X,y)\n",
    "print(\"accuracy with 50 estimators:\")\n",
    "print(accuracy_score(rnd_2.predict(X),y))"
   ]
  },
  {
   "cell_type": "markdown",
   "metadata": {},
   "source": [
    "# Dropping least important Opcodes"
   ]
  },
  {
   "cell_type": "code",
   "execution_count": 33,
   "metadata": {},
   "outputs": [],
   "source": [
    "feature_importances = pd.DataFrame(rnd_2.feature_importances_,index = X.columns,columns=['importance']).sort_values('importance',ascending=False)"
   ]
  },
  {
   "cell_type": "code",
   "execution_count": 34,
   "metadata": {},
   "outputs": [
    {
     "data": {
      "text/html": [
       "<div>\n",
       "<style scoped>\n",
       "    .dataframe tbody tr th:only-of-type {\n",
       "        vertical-align: middle;\n",
       "    }\n",
       "\n",
       "    .dataframe tbody tr th {\n",
       "        vertical-align: top;\n",
       "    }\n",
       "\n",
       "    .dataframe thead th {\n",
       "        text-align: right;\n",
       "    }\n",
       "</style>\n",
       "<table border=\"1\" class=\"dataframe\">\n",
       "  <thead>\n",
       "    <tr style=\"text-align: right;\">\n",
       "      <th></th>\n",
       "      <th>importance</th>\n",
       "    </tr>\n",
       "  </thead>\n",
       "  <tbody>\n",
       "    <tr>\n",
       "      <th>925</th>\n",
       "      <td>0.030715</td>\n",
       "    </tr>\n",
       "    <tr>\n",
       "      <th>234</th>\n",
       "      <td>0.030197</td>\n",
       "    </tr>\n",
       "    <tr>\n",
       "      <th>671</th>\n",
       "      <td>0.029851</td>\n",
       "    </tr>\n",
       "    <tr>\n",
       "      <th>1058</th>\n",
       "      <td>0.029179</td>\n",
       "    </tr>\n",
       "    <tr>\n",
       "      <th>1022</th>\n",
       "      <td>0.028172</td>\n",
       "    </tr>\n",
       "  </tbody>\n",
       "</table>\n",
       "</div>"
      ],
      "text/plain": [
       "      importance\n",
       "925     0.030715\n",
       "234     0.030197\n",
       "671     0.029851\n",
       "1058    0.029179\n",
       "1022    0.028172"
      ]
     },
     "execution_count": 34,
     "metadata": {},
     "output_type": "execute_result"
    }
   ],
   "source": [
    "feature_importances.head()"
   ]
  },
  {
   "cell_type": "code",
   "execution_count": 35,
   "metadata": {},
   "outputs": [],
   "source": [
    "#dropping features with importance weight=0\n",
    "to_drop_features=list(np.where(feature_importances.importance==0)[0])\n",
    "to_drop_features=[str(x) for x in to_drop_features]"
   ]
  },
  {
   "cell_type": "code",
   "execution_count": 36,
   "metadata": {},
   "outputs": [
    {
     "data": {
      "text/plain": [
       "1220"
      ]
     },
     "execution_count": 36,
     "metadata": {},
     "output_type": "execute_result"
    }
   ],
   "source": [
    "len(to_drop_features)"
   ]
  },
  {
   "cell_type": "code",
   "execution_count": 37,
   "metadata": {},
   "outputs": [],
   "source": [
    "X_new=X.drop(columns=to_drop_features,axis=1)"
   ]
  },
  {
   "cell_type": "code",
   "execution_count": 38,
   "metadata": {},
   "outputs": [
    {
     "data": {
      "text/plain": [
       "(6769, 587)"
      ]
     },
     "execution_count": 38,
     "metadata": {},
     "output_type": "execute_result"
    }
   ],
   "source": [
    "X_new.shape"
   ]
  },
  {
   "cell_type": "code",
   "execution_count": 39,
   "metadata": {},
   "outputs": [],
   "source": [
    "X_final=X_new"
   ]
  },
  {
   "cell_type": "code",
   "execution_count": 40,
   "metadata": {},
   "outputs": [],
   "source": [
    "X_train, X_test, y_train, y_test = train_test_split(X_new,y,random_state=0)"
   ]
  },
  {
   "cell_type": "code",
   "execution_count": 41,
   "metadata": {},
   "outputs": [
    {
     "name": "stdout",
     "output_type": "stream",
     "text": [
      "for max_depth=1\n",
      "training data accuracy:0.8295902285263987\n",
      "validation accuracy:0.8174837566450088\n",
      "==============================================\n",
      "for max_depth=3\n",
      "training data accuracy:0.9408983451536643\n",
      "validation accuracy:0.9167158889545186\n",
      "==============================================\n",
      "for max_depth=5\n",
      "training data accuracy:0.9623719464144996\n",
      "validation accuracy:0.9438865918487891\n",
      "==============================================\n",
      "for max_depth=7\n",
      "training data accuracy:0.9736012608353034\n",
      "validation accuracy:0.954518606024808\n",
      "==============================================\n",
      "for max_depth=10\n",
      "training data accuracy:0.9913317572892041\n",
      "validation accuracy:0.9763733018310691\n",
      "==============================================\n",
      "for max_depth=12\n",
      "training data accuracy:0.9938928289992119\n",
      "validation accuracy:0.9746012994683992\n",
      "==============================================\n",
      "for max_depth=15\n",
      "training data accuracy:0.9974389282899921\n",
      "validation accuracy:0.9775546367395157\n",
      "==============================================\n",
      "for max_depth=20\n",
      "training data accuracy:0.9990149724192278\n",
      "validation accuracy:0.9781453041937389\n",
      "==============================================\n"
     ]
    }
   ],
   "source": [
    "depth=[1,3,5,7,10,12,15,20]\n",
    "train_accuracy=[]\n",
    "test_accuracy=[]\n",
    "for i in depth:\n",
    "    clf = RandomForestClassifier(max_depth=i,n_estimators=200).fit(X_train,y_train)\n",
    "    train_accuracy.append(accuracy_score(clf.predict(X_train),y_train))\n",
    "    test_accuracy.append(accuracy_score(clf.predict(X_test),y_test))\n",
    "    print(\"for max_depth=\"+str(i))\n",
    "    print(\"training data accuracy:\"+str(accuracy_score(clf.predict(X_train),y_train)))\n",
    "    print(\"validation accuracy:\"+str(accuracy_score(clf.predict(X_test),y_test)))\n",
    "    print(\"==============================================\")"
   ]
  },
  {
   "cell_type": "code",
   "execution_count": 42,
   "metadata": {},
   "outputs": [
    {
     "data": {
      "text/plain": [
       "Text(0, 0.5, 'Accuracy')"
      ]
     },
     "execution_count": 42,
     "metadata": {},
     "output_type": "execute_result"
    },
    {
     "data": {
      "image/png": "[encoded data removed]",
      "text/plain": [
       "<Figure size 720x432 with 1 Axes>"
      ]
     },
     "metadata": {},
     "output_type": "display_data"
    }
   ],
   "source": [
    "plt.figure(figsize=(10,6))\n",
    "train_score,=plt.plot(depth,train_accuracy,color='blue', linestyle='dashed', marker='o',\n",
    "         markerfacecolor='green', markersize=5)\n",
    "test_score,=plt.plot(depth,test_accuracy,color='red',linestyle='dashed',  marker='o',\n",
    "         markerfacecolor='blue', markersize=5)\n",
    "plt.legend( [train_score,test_score],[\"Train Accuracy\",\"Test Accuracy\"])\n",
    "plt.title('Accuracy vs max_depth for RandomForest with 200 trees and Features dropped')\n",
    "plt.xlabel('max_depth')\n",
    "plt.ylabel('Accuracy')"
   ]
  },
  {
   "cell_type": "code",
   "execution_count": 44,
   "metadata": {},
   "outputs": [
    {
     "data": {
      "text/plain": [
       "(6769, 587)"
      ]
     },
     "execution_count": 44,
     "metadata": {},
     "output_type": "execute_result"
    }
   ],
   "source": [
    "X_new.shape"
   ]
  },
  {
   "cell_type": "code",
   "execution_count": 45,
   "metadata": {},
   "outputs": [
    {
     "name": "stdout",
     "output_type": "stream",
     "text": [
      "accuracy with 200 estimators:\n",
      "0.9989658738366081\n"
     ]
    }
   ],
   "source": [
    "rnd_3=RandomForestClassifier(max_depth=20,n_estimators=200).fit(X_new,y)\n",
    "print(\"accuracy with 200 estimators:\")\n",
    "print(accuracy_score(rnd_3.predict(X_new),y))"
   ]
  },
  {
   "cell_type": "code",
   "execution_count": 46,
   "metadata": {},
   "outputs": [
    {
     "data": {
      "text/plain": [
       "587"
      ]
     },
     "execution_count": 46,
     "metadata": {},
     "output_type": "execute_result"
    }
   ],
   "source": [
    "len(rnd_3.feature_importances_)"
   ]
  },
  {
   "cell_type": "code",
   "execution_count": 47,
   "metadata": {},
   "outputs": [],
   "source": [
    "feature_importances= pd.DataFrame(rnd_3.feature_importances_,index = X_new.columns,columns=['importance']).sort_values('importance',ascending=False)"
   ]
  },
  {
   "cell_type": "code",
   "execution_count": 48,
   "metadata": {},
   "outputs": [
    {
     "data": {
      "text/html": [
       "<div>\n",
       "<style scoped>\n",
       "    .dataframe tbody tr th:only-of-type {\n",
       "        vertical-align: middle;\n",
       "    }\n",
       "\n",
       "    .dataframe tbody tr th {\n",
       "        vertical-align: top;\n",
       "    }\n",
       "\n",
       "    .dataframe thead th {\n",
       "        text-align: right;\n",
       "    }\n",
       "</style>\n",
       "<table border=\"1\" class=\"dataframe\">\n",
       "  <thead>\n",
       "    <tr style=\"text-align: right;\">\n",
       "      <th></th>\n",
       "      <th>importance</th>\n",
       "    </tr>\n",
       "  </thead>\n",
       "  <tbody>\n",
       "    <tr>\n",
       "      <th>472</th>\n",
       "      <td>0.037290</td>\n",
       "    </tr>\n",
       "    <tr>\n",
       "      <th>7</th>\n",
       "      <td>0.028259</td>\n",
       "    </tr>\n",
       "    <tr>\n",
       "      <th>447</th>\n",
       "      <td>0.024144</td>\n",
       "    </tr>\n",
       "    <tr>\n",
       "      <th>494</th>\n",
       "      <td>0.023578</td>\n",
       "    </tr>\n",
       "    <tr>\n",
       "      <th>568</th>\n",
       "      <td>0.022961</td>\n",
       "    </tr>\n",
       "  </tbody>\n",
       "</table>\n",
       "</div>"
      ],
      "text/plain": [
       "     importance\n",
       "472    0.037290\n",
       "7      0.028259\n",
       "447    0.024144\n",
       "494    0.023578\n",
       "568    0.022961"
      ]
     },
     "execution_count": 48,
     "metadata": {},
     "output_type": "execute_result"
    }
   ],
   "source": [
    "#Most important Opcodes\n",
    "feature_importances.head()"
   ]
  },
  {
   "cell_type": "markdown",
   "metadata": {},
   "source": [
    "# Applying PCA to reduce dimensions"
   ]
  },
  {
   "cell_type": "code",
   "execution_count": 49,
   "metadata": {},
   "outputs": [],
   "source": [
    "from sklearn import decomposition\n",
    "pca = decomposition.PCA(n_components=5)"
   ]
  },
  {
   "cell_type": "code",
   "execution_count": 50,
   "metadata": {},
   "outputs": [
    {
     "data": {
      "text/plain": [
       "(6769, 587)"
      ]
     },
     "execution_count": 50,
     "metadata": {},
     "output_type": "execute_result"
    }
   ],
   "source": [
    "X_final.shape"
   ]
  },
  {
   "cell_type": "code",
   "execution_count": 51,
   "metadata": {},
   "outputs": [],
   "source": [
    "X_pca = pca.fit_transform(X_final)"
   ]
  },
  {
   "cell_type": "code",
   "execution_count": 52,
   "metadata": {},
   "outputs": [
    {
     "data": {
      "text/html": [
       "<div>\n",
       "<style scoped>\n",
       "    .dataframe tbody tr th:only-of-type {\n",
       "        vertical-align: middle;\n",
       "    }\n",
       "\n",
       "    .dataframe tbody tr th {\n",
       "        vertical-align: top;\n",
       "    }\n",
       "\n",
       "    .dataframe thead th {\n",
       "        text-align: right;\n",
       "    }\n",
       "</style>\n",
       "<table border=\"1\" class=\"dataframe\">\n",
       "  <thead>\n",
       "    <tr style=\"text-align: right;\">\n",
       "      <th></th>\n",
       "      <th>0</th>\n",
       "      <th>1</th>\n",
       "      <th>2</th>\n",
       "      <th>3</th>\n",
       "      <th>4</th>\n",
       "    </tr>\n",
       "  </thead>\n",
       "  <tbody>\n",
       "    <tr>\n",
       "      <th>0</th>\n",
       "      <td>2516.340646</td>\n",
       "      <td>-231.319232</td>\n",
       "      <td>298.438933</td>\n",
       "      <td>-94.495447</td>\n",
       "      <td>-191.268990</td>\n",
       "    </tr>\n",
       "    <tr>\n",
       "      <th>1</th>\n",
       "      <td>-2339.714332</td>\n",
       "      <td>-367.700058</td>\n",
       "      <td>-979.519431</td>\n",
       "      <td>-470.190191</td>\n",
       "      <td>145.654430</td>\n",
       "    </tr>\n",
       "    <tr>\n",
       "      <th>2</th>\n",
       "      <td>-2373.010858</td>\n",
       "      <td>-429.861732</td>\n",
       "      <td>-978.661575</td>\n",
       "      <td>-477.563078</td>\n",
       "      <td>149.345870</td>\n",
       "    </tr>\n",
       "    <tr>\n",
       "      <th>3</th>\n",
       "      <td>828.419160</td>\n",
       "      <td>-528.613380</td>\n",
       "      <td>2302.689233</td>\n",
       "      <td>89.445094</td>\n",
       "      <td>340.242046</td>\n",
       "    </tr>\n",
       "    <tr>\n",
       "      <th>4</th>\n",
       "      <td>-146.561213</td>\n",
       "      <td>-396.569304</td>\n",
       "      <td>-394.897099</td>\n",
       "      <td>-147.862380</td>\n",
       "      <td>111.819352</td>\n",
       "    </tr>\n",
       "  </tbody>\n",
       "</table>\n",
       "</div>"
      ],
      "text/plain": [
       "             0           1            2           3           4\n",
       "0  2516.340646 -231.319232   298.438933  -94.495447 -191.268990\n",
       "1 -2339.714332 -367.700058  -979.519431 -470.190191  145.654430\n",
       "2 -2373.010858 -429.861732  -978.661575 -477.563078  149.345870\n",
       "3   828.419160 -528.613380  2302.689233   89.445094  340.242046\n",
       "4  -146.561213 -396.569304  -394.897099 -147.862380  111.819352"
      ]
     },
     "execution_count": 52,
     "metadata": {},
     "output_type": "execute_result"
    }
   ],
   "source": [
    "pc_df = pd.DataFrame(data = X_pca , \n",
    "        columns = np.arange(5))\n",
    "pc_df.head()"
   ]
  },
  {
   "cell_type": "code",
   "execution_count": 53,
   "metadata": {},
   "outputs": [],
   "source": [
    "X_train, X_test, y_train, y_test = train_test_split(pc_df,y,random_state=0)"
   ]
  },
  {
   "cell_type": "code",
   "execution_count": 54,
   "metadata": {},
   "outputs": [
    {
     "name": "stdout",
     "output_type": "stream",
     "text": [
      "0.9992119779353822\n",
      "0.9704666272888364\n"
     ]
    }
   ],
   "source": [
    "clf = RandomForestClassifier(max_depth=20,n_estimators=300).fit(X_train,y_train)\n",
    "print(accuracy_score(clf.predict(X_train),y_train))\n",
    "print(accuracy_score(clf.predict(X_test),y_test))"
   ]
  },
  {
   "cell_type": "code",
   "execution_count": 55,
   "metadata": {},
   "outputs": [
    {
     "name": "stdout",
     "output_type": "stream",
     "text": [
      "0.9989658738366081\n"
     ]
    }
   ],
   "source": [
    "clf = RandomForestClassifier(max_depth=20,n_estimators=300).fit(X_pca,y)\n",
    "print(accuracy_score(clf.predict(X_pca),y))\n"
   ]
  },
  {
   "cell_type": "code",
   "execution_count": 56,
   "metadata": {},
   "outputs": [
    {
     "data": {
      "text/plain": [
       "array([0.53941168, 0.20780656, 0.13054913, 0.03768327, 0.02379643])"
      ]
     },
     "execution_count": 56,
     "metadata": {},
     "output_type": "execute_result"
    }
   ],
   "source": [
    "pca.explained_variance_ratio_"
   ]
  },
  {
   "cell_type": "markdown",
   "metadata": {},
   "source": [
    "# Comparing Models"
   ]
  },
  {
   "cell_type": "code",
   "execution_count": 57,
   "metadata": {},
   "outputs": [],
   "source": [
    "from sklearn.metrics import confusion_matrix,classification_report,accuracy_score"
   ]
  },
  {
   "cell_type": "code",
   "execution_count": 58,
   "metadata": {},
   "outputs": [
    {
     "name": "stdout",
     "output_type": "stream",
     "text": [
      "Logistic-Regression:\n",
      "[[2668  110]\n",
      " [  41 3950]]\n",
      "             precision    recall  f1-score   support\n",
      "\n",
      "          0       0.98      0.96      0.97      2778\n",
      "          1       0.97      0.99      0.98      3991\n",
      "\n",
      "avg / total       0.98      0.98      0.98      6769\n",
      "\n"
     ]
    }
   ],
   "source": [
    "print(\"Logistic-Regression:\")\n",
    "print(confusion_matrix(lr.predict(X), y))\n",
    "print(classification_report(lr.predict(X), y))"
   ]
  },
  {
   "cell_type": "code",
   "execution_count": 59,
   "metadata": {},
   "outputs": [
    {
     "name": "stdout",
     "output_type": "stream",
     "text": [
      "SVM:\n",
      "[[ 322    9]\n",
      " [2387 4051]]\n",
      "             precision    recall  f1-score   support\n",
      "\n",
      "          0       0.12      0.97      0.21       331\n",
      "          1       1.00      0.63      0.77      6438\n",
      "\n",
      "avg / total       0.95      0.65      0.74      6769\n",
      "\n"
     ]
    }
   ],
   "source": [
    "print(\"SVM:\")\n",
    "print(confusion_matrix(svmrbf.predict(X), y))\n",
    "print(classification_report(svmrbf.predict(X), y))"
   ]
  },
  {
   "cell_type": "code",
   "execution_count": 60,
   "metadata": {},
   "outputs": [
    {
     "name": "stdout",
     "output_type": "stream",
     "text": [
      "KNN:\n",
      "[[2666   38]\n",
      " [  43 4022]]\n",
      "             precision    recall  f1-score   support\n",
      "\n",
      "          0       0.98      0.99      0.99      2704\n",
      "          1       0.99      0.99      0.99      4065\n",
      "\n",
      "avg / total       0.99      0.99      0.99      6769\n",
      "\n"
     ]
    }
   ],
   "source": [
    "print(\"KNN:\")\n",
    "print(confusion_matrix(knn.predict(X), y))\n",
    "print(classification_report(knn.predict(X), y))"
   ]
  },
  {
   "cell_type": "code",
   "execution_count": 61,
   "metadata": {},
   "outputs": [
    {
     "name": "stdout",
     "output_type": "stream",
     "text": [
      "KNN with scaling features:\n",
      "[[2672   55]\n",
      " [  37 4005]]\n",
      "             precision    recall  f1-score   support\n",
      "\n",
      "          0       0.99      0.98      0.98      2727\n",
      "          1       0.99      0.99      0.99      4042\n",
      "\n",
      "avg / total       0.99      0.99      0.99      6769\n",
      "\n"
     ]
    }
   ],
   "source": [
    "print(\"KNN with scaling features:\")\n",
    "print(confusion_matrix(knn_1.predict(scaled_data_pd), y))\n",
    "print(classification_report(knn_1.predict(scaled_data_pd), y))"
   ]
  },
  {
   "cell_type": "code",
   "execution_count": 62,
   "metadata": {
    "scrolled": true
   },
   "outputs": [
    {
     "name": "stdout",
     "output_type": "stream",
     "text": [
      "DecisionTree:\n",
      "[[2709   97]\n",
      " [   0 3963]]\n",
      "             precision    recall  f1-score   support\n",
      "\n",
      "          0       1.00      0.97      0.98      2806\n",
      "          1       0.98      1.00      0.99      3963\n",
      "\n",
      "avg / total       0.99      0.99      0.99      6769\n",
      "\n"
     ]
    }
   ],
   "source": [
    "print(\"DecisionTree:\")\n",
    "print(confusion_matrix(dec.predict(X), y))\n",
    "print(classification_report(dec.predict(X), y))"
   ]
  },
  {
   "cell_type": "code",
   "execution_count": 64,
   "metadata": {},
   "outputs": [
    {
     "name": "stdout",
     "output_type": "stream",
     "text": [
      "RandomForest with 50 trees:\n",
      "[[2709    7]\n",
      " [   0 4053]]\n",
      "             precision    recall  f1-score   support\n",
      "\n",
      "          0       1.00      1.00      1.00      2716\n",
      "          1       1.00      1.00      1.00      4053\n",
      "\n",
      "avg / total       1.00      1.00      1.00      6769\n",
      "\n"
     ]
    }
   ],
   "source": [
    "print(\"RandomForest with 50 trees:\")\n",
    "print(confusion_matrix(rnd_2.predict(X), y))\n",
    "print(classification_report(rnd_2.predict(X), y))"
   ]
  },
  {
   "cell_type": "code",
   "execution_count": 65,
   "metadata": {},
   "outputs": [
    {
     "name": "stdout",
     "output_type": "stream",
     "text": [
      "RandomForest with dropped features:\n",
      "[[2709    7]\n",
      " [   0 4053]]\n",
      "             precision    recall  f1-score   support\n",
      "\n",
      "          0       1.00      1.00      1.00      2716\n",
      "          1       1.00      1.00      1.00      4053\n",
      "\n",
      "avg / total       1.00      1.00      1.00      6769\n",
      "\n"
     ]
    }
   ],
   "source": [
    "print(\"RandomForest with dropped features:\")\n",
    "print(confusion_matrix(rnd_3.predict(X_new), y))\n",
    "print(classification_report(rnd_3.predict(X_new), y))"
   ]
  },
  {
   "cell_type": "code",
   "execution_count": 66,
   "metadata": {},
   "outputs": [
    {
     "name": "stdout",
     "output_type": "stream",
     "text": [
      "RandomForest with pca:\n",
      "[[2709    7]\n",
      " [   0 4053]]\n",
      "             precision    recall  f1-score   support\n",
      "\n",
      "          0       1.00      1.00      1.00      2716\n",
      "          1       1.00      1.00      1.00      4053\n",
      "\n",
      "avg / total       1.00      1.00      1.00      6769\n",
      "\n"
     ]
    }
   ],
   "source": [
    "print(\"RandomForest with pca:\")\n",
    "print(confusion_matrix(clf.predict(X_pca), y))\n",
    "print(classification_report(clf.predict(X_pca), y))"
   ]
  },
  {
   "cell_type": "code",
   "execution_count": null,
   "metadata": {},
   "outputs": [],
   "source": []
  }
 ],
 "metadata": {
  "kernelspec": {
   "display_name": "Python 3",
   "language": "python",
   "name": "python3"
  },
  "language_info": {
   "codemirror_mode": {
    "name": "ipython",
    "version": 3
   },
   "file_extension": ".py",
   "mimetype": "text/x-python",
   "name": "python",
   "nbconvert_exporter": "python",
   "pygments_lexer": "ipython3",
   "version": "3.6.6"
  }
 },
 "nbformat": 4,
 "nbformat_minor": 2
}
