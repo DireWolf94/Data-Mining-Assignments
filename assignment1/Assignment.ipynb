{
 "cells": [
  {
   "cell_type": "markdown",
   "metadata": {},
   "source": [
    "# Importing Packages"
   ]
  },
  {
   "cell_type": "code",
   "execution_count": 43,
   "metadata": {},
   "outputs": [],
   "source": [
    "import warnings\n",
    "warnings.filterwarnings('ignore')\n",
    "import pandas as pd\n",
    "import numpy as np\n",
    "from sklearn.cluster import KMeans\n",
    "from sklearn.metrics import accuracy_score\n",
    "from sklearn.cluster import Birch\n",
    "from sklearn.metrics import matthews_corrcoef as corr\n",
    "from sklearn.metrics import mean_squared_error as mse\n",
    "from sklearn.metrics import confusion_matrix as cmat\n",
    "from sklearn.preprocessing import MinMaxScaler"
   ]
  },
  {
   "cell_type": "markdown",
   "metadata": {},
   "source": [
    "# Loading data"
   ]
  },
  {
   "cell_type": "code",
   "execution_count": 44,
   "metadata": {},
   "outputs": [],
   "source": [
    "orig_data=pd.read_csv('creditcard.csv')"
   ]
  },
  {
   "cell_type": "markdown",
   "metadata": {},
   "source": [
    "# Data Preprocessing and Cleaning"
   ]
  },
  {
   "cell_type": "code",
   "execution_count": 45,
   "metadata": {},
   "outputs": [],
   "source": [
    "orig_data.V1[orig_data[\"V1\"]==',']=np.nan\n",
    "orig_data.V1[orig_data[\"V1\"]=='?']=np.nan\n",
    "orig_data.V2[orig_data[\"V2\"]==']']=np.nan\n",
    "orig_data.V3[orig_data[\"V3\"]==\"'\"]=np.nan\n",
    "orig_data.V4[orig_data[\"V4\"]=='%']=np.nan\n",
    "orig_data.V5[orig_data[\"V5\"]==']']=np.nan\n",
    "orig_data.V5[orig_data[\"V5\"]=='[']=np.nan\n",
    "orig_data.V6[orig_data[\"V6\"]==\"'\"]=np.nan\n",
    "orig_data.V24[orig_data[\"V24\"]=='/']=np.nan\n",
    "orig_data.V24[orig_data[\"V24\"]==',']=np.nan\n",
    "orig_data.V24[orig_data[\"V24\"]==\"'\"]=np.nan\n",
    "orig_data.V24[orig_data[\"V24\"]==';']=np.nan\n",
    "orig_data.V24[orig_data[\"V24\"]=='?']=np.nan\n",
    "orig_data.V24[orig_data[\"V24\"]=='.']=np.nan\n",
    "orig_data.V25[orig_data[\"V25\"]=='[']=np.nan\n",
    "orig_data.V25[orig_data[\"V25\"]=='.']=np.nan\n",
    "orig_data = orig_data.applymap(lambda x: float(x))\n",
    "orig_data=orig_data.apply(lambda x: x.fillna(x.mean()),axis=0)"
   ]
  },
  {
   "cell_type": "markdown",
   "metadata": {},
   "source": [
    "# Data Normalization"
   ]
  },
  {
   "cell_type": "code",
   "execution_count": 46,
   "metadata": {},
   "outputs": [],
   "source": [
    "scaler=MinMaxScaler().fit(orig_data)\n",
    "scaled_data=scaler.transform(orig_data)\n",
    "scaled_data_pd=pd.DataFrame(scaled_data,columns=orig_data.columns)\n",
    "X_n=scaled_data_pd.drop(columns=['Time','Class'],axis=1)\n",
    "X_t_n=scaled_data_pd.drop(columns=['Class'],axis=1)\n",
    "X=orig_data.drop(columns=['Time','Class'],axis=1)\n",
    "X_t=orig_data.drop(columns=['Class'],axis=1)\n",
    "y=orig_data.Class"
   ]
  },
  {
   "cell_type": "markdown",
   "metadata": {},
   "source": [
    "# Metrics Function"
   ]
  },
  {
   "cell_type": "code",
   "execution_count": 47,
   "metadata": {},
   "outputs": [],
   "source": [
    "def metrics(pred,true):\n",
    "    print(\"accuracy=\",accuracy_score(pred,true))\n",
    "    print(\"mathew's correaltion coefficient=\",corr(pred,true))\n",
    "    print(\"root mean square error=\",np.sqrt(mse(pred,true)))\n",
    "    print(\"neagtive predictive value:\",cmat(true,pred)[1][1]/(cmat(true,pred)[1][0]+cmat(true,pred)[1][1]))"
   ]
  },
  {
   "cell_type": "markdown",
   "metadata": {},
   "source": [
    "# Kmeans Algorithm with Normalization and Time Feature Dropped"
   ]
  },
  {
   "cell_type": "code",
   "execution_count": 48,
   "metadata": {},
   "outputs": [
    {
     "name": "stdout",
     "output_type": "stream",
     "text": [
      "accuracy= 0.6775005352586264\n",
      "mathew's correaltion coefficient= 0.010568935549511861\n",
      "root mean square error= 0.567890363310889\n",
      "neagtive predictive value: 0.4410569105691057\n"
     ]
    }
   ],
   "source": [
    "kmeans = KMeans(n_clusters = 2,init = 'k-means++',random_state = 42,n_jobs=-1)\n",
    "pred=kmeans.fit_predict(X_n)\n",
    "metrics(pred,y)"
   ]
  },
  {
   "cell_type": "markdown",
   "metadata": {},
   "source": [
    "# Kmeans Algorithm without Normalization and Time Feature Dropped"
   ]
  },
  {
   "cell_type": "code",
   "execution_count": 49,
   "metadata": {},
   "outputs": [
    {
     "name": "stdout",
     "output_type": "stream",
     "text": [
      "accuracy= 0.9801410274859692\n",
      "mathew's correaltion coefficient= 0.005065018763291622\n",
      "root mean square error= 0.14092186669935505\n",
      "neagtive predictive value: 0.034552845528455285\n"
     ]
    }
   ],
   "source": [
    "kmeans = KMeans(n_clusters = 2,init = 'k-means++',random_state = 42,n_jobs=-1)\n",
    "pred=kmeans.fit_predict(X)\n",
    "metrics(pred,y)"
   ]
  },
  {
   "cell_type": "markdown",
   "metadata": {},
   "source": [
    "# Kmeans Algorithm with Normalization and Time Feature"
   ]
  },
  {
   "cell_type": "code",
   "execution_count": 50,
   "metadata": {},
   "outputs": [
    {
     "name": "stdout",
     "output_type": "stream",
     "text": [
      "accuracy= 0.5363466931546564\n",
      "mathew's correaltion coefficient= -0.011835841431817767\n",
      "root mean square error= 0.6809209255452087\n",
      "neagtive predictive value: 0.32113821138211385\n"
     ]
    }
   ],
   "source": [
    "kmeans = KMeans(n_clusters = 2,init = 'k-means++',random_state = 42,n_jobs=-1)\n",
    "pred=kmeans.fit_predict(X_t_n)\n",
    "metrics(pred,y)"
   ]
  },
  {
   "cell_type": "markdown",
   "metadata": {},
   "source": [
    "# Kmeans Algorithm without Normalization and Time Feature"
   ]
  },
  {
   "cell_type": "code",
   "execution_count": 51,
   "metadata": {},
   "outputs": [
    {
     "name": "stdout",
     "output_type": "stream",
     "text": [
      "accuracy= 0.5369925133990151\n",
      "mathew's correaltion coefficient= -0.01110720293094497\n",
      "root mean square error= 0.6804465347115708\n",
      "neagtive predictive value: 0.32926829268292684\n"
     ]
    }
   ],
   "source": [
    "kmeans = KMeans(n_clusters = 2,init = 'k-means++',random_state = 42,n_jobs=-1)\n",
    "pred=kmeans.fit_predict(X_t)\n",
    "metrics(pred,y)"
   ]
  },
  {
   "cell_type": "markdown",
   "metadata": {},
   "source": [
    "# Birch Algorithm with Normalization and Time Feature Dropped"
   ]
  },
  {
   "cell_type": "code",
   "execution_count": 52,
   "metadata": {},
   "outputs": [
    {
     "name": "stdout",
     "output_type": "stream",
     "text": [
      "accuracy= 0.9982731328248668\n",
      "mathew's correaltion coefficient= 0.0\n",
      "root mean square error= 0.041555591382305135\n",
      "neagtive predictive value: 0.0\n"
     ]
    }
   ],
   "source": [
    "bc=Birch(n_clusters=2)\n",
    "pred=bc.fit_predict(X_n)\n",
    "metrics(pred,y)"
   ]
  },
  {
   "cell_type": "markdown",
   "metadata": {},
   "source": [
    "# Birch Algorithm with Normalization and Time Feature "
   ]
  },
  {
   "cell_type": "code",
   "execution_count": 53,
   "metadata": {
    "scrolled": true
   },
   "outputs": [
    {
     "name": "stdout",
     "output_type": "stream",
     "text": [
      "accuracy= 0.9982731328248668\n",
      "mathew's correaltion coefficient= 0.0\n",
      "root mean square error= 0.041555591382305135\n",
      "neagtive predictive value: 0.0\n"
     ]
    }
   ],
   "source": [
    "bc=Birch(n_clusters=2)\n",
    "pred=bc.fit_predict(X_t_n)\n",
    "metrics(pred,y)"
   ]
  },
  {
   "cell_type": "code",
   "execution_count": null,
   "metadata": {},
   "outputs": [],
   "source": []
  }
 ],
 "metadata": {
  "kernelspec": {
   "display_name": "Python 3",
   "language": "python",
   "name": "python3"
  },
  "language_info": {
   "codemirror_mode": {
    "name": "ipython",
    "version": 3
   },
   "file_extension": ".py",
   "mimetype": "text/x-python",
   "name": "python",
   "nbconvert_exporter": "python",
   "pygments_lexer": "ipython3",
   "version": "3.6.6"
  }
 },
 "nbformat": 4,
 "nbformat_minor": 2
}
